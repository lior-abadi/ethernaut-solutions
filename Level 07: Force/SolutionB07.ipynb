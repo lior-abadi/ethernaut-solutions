{
 "cells": [
  {
   "cell_type": "code",
   "execution_count": 34,
   "metadata": {},
   "outputs": [],
   "source": [
    "import sha3\n",
    "import rlp"
   ]
  },
  {
   "cell_type": "code",
   "execution_count": 38,
   "metadata": {},
   "outputs": [],
   "source": [
    "sender = bytes.fromhex(\"004ec07d2329997267ec62b4166639513386f32e\") #Drop the 0x of the address.\n",
    "nonce = bytes.fromhex(\"8e\") # Hex number"
   ]
  },
  {
   "cell_type": "code",
   "execution_count": 39,
   "metadata": {},
   "outputs": [
    {
     "ename": "TypeError",
     "evalue": "not all arguments converted during bytes formatting",
     "output_type": "error",
     "traceback": [
      "\u001b[0;31m---------------------------------------------------------------------------\u001b[0m",
      "\u001b[0;31mTypeError\u001b[0m                                 Traceback (most recent call last)",
      "\u001b[1;32m/home/lior/Documents/GitHub/ethernaut-solutions/Level 07: Force/guessAddress.ipynb Cell 3'\u001b[0m in \u001b[0;36m<cell line: 1>\u001b[0;34m()\u001b[0m\n\u001b[0;32m----> <a href='vscode-notebook-cell:/home/lior/Documents/GitHub/ethernaut-solutions/Level%2007%3A%20Force/guessAddress.ipynb#ch0000008?line=0'>1</a>\u001b[0m contract_address \u001b[39m=\u001b[39m sha3\u001b[39m.\u001b[39;49mSHAKE256(rlp\u001b[39m.\u001b[39;49mencode([sender, nonce]))[\u001b[39m12\u001b[39m:]\n",
      "File \u001b[0;32m~/.local/lib/python3.8/site-packages/sha3/__init__.py:112\u001b[0m, in \u001b[0;36m__init__\u001b[0;34m(self, output_length)\u001b[0m\n",
      "\u001b[0;31mTypeError\u001b[0m: not all arguments converted during bytes formatting"
     ]
    }
   ],
   "source": [
    "contract_address = sha3.SHAKE256(rlp.encode([sender, nonce]))[12:]"
   ]
  }
 ],
 "metadata": {
  "interpreter": {
   "hash": "916dbcbb3f70747c44a77c7bcd40155683ae19c65e1c03b4aa3499c5328201f1"
  },
  "kernelspec": {
   "display_name": "Python 3.8.10 64-bit",
   "language": "python",
   "name": "python3"
  },
  "language_info": {
   "codemirror_mode": {
    "name": "ipython",
    "version": 3
   },
   "file_extension": ".py",
   "mimetype": "text/x-python",
   "name": "python",
   "nbconvert_exporter": "python",
   "pygments_lexer": "ipython3",
   "version": "3.8.10"
  },
  "orig_nbformat": 4
 },
 "nbformat": 4,
 "nbformat_minor": 2
}
