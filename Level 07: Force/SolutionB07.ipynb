{
 "cells": [
  {
   "cell_type": "code",
   "execution_count": 7,
   "metadata": {},
   "outputs": [],
   "source": [
    "import rlp\n",
    "from eth_utils import keccak, to_checksum_address, to_bytes\n"
   ]
  },
  {
   "cell_type": "code",
   "execution_count": 9,
   "metadata": {},
   "outputs": [],
   "source": [
    "def mk_contract_address(sender: str, nonce: int) -> str:\n",
    "    sender_bytes = to_bytes(hexstr=sender)\n",
    "    raw = rlp.encode([sender_bytes, nonce])\n",
    "    h = keccak(raw)\n",
    "    address_bytes = h[12:]\n",
    "    return to_checksum_address(address_bytes)"
   ]
  },
  {
   "cell_type": "code",
   "execution_count": 10,
   "metadata": {},
   "outputs": [],
   "source": [
    "sender = \"0x22699e6AdD7159C3C385bf4d7e1C647ddB3a99ea\"\n",
    "nonce = 4192"
   ]
  },
  {
   "cell_type": "code",
   "execution_count": 11,
   "metadata": {},
   "outputs": [
    {
     "name": "stdout",
     "output_type": "stream",
     "text": [
      "0xD8695d911Ed8b3d765523aFC324377dCe5799961\n"
     ]
    }
   ],
   "source": [
    "print(mk_contract_address(sender, nonce))"
   ]
  }
 ],
 "metadata": {
  "interpreter": {
   "hash": "916dbcbb3f70747c44a77c7bcd40155683ae19c65e1c03b4aa3499c5328201f1"
  },
  "kernelspec": {
   "display_name": "Python 3.8.10 64-bit",
   "language": "python",
   "name": "python3"
  },
  "language_info": {
   "codemirror_mode": {
    "name": "ipython",
    "version": 3
   },
   "file_extension": ".py",
   "mimetype": "text/x-python",
   "name": "python",
   "nbconvert_exporter": "python",
   "pygments_lexer": "ipython3",
   "version": "3.8.10"
  },
  "orig_nbformat": 4
 },
 "nbformat": 4,
 "nbformat_minor": 2
}
